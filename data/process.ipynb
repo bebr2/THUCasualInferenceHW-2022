{
 "cells": [
  {
   "cell_type": "code",
   "execution_count": 1,
   "metadata": {},
   "outputs": [],
   "source": [
    "import pandas as pd\n",
    "pdf = pd.read_csv('./2014EDU.csv')\n"
   ]
  },
  {
   "cell_type": "code",
   "execution_count": 2,
   "metadata": {},
   "outputs": [
    {
     "name": "stdout",
     "output_type": "stream",
     "text": [
      "['Alabama', 'Alaska', 'Arizona', 'Arkansas', 'California', 'Colorado', 'Connecticut', 'Delaware', 'District of Columbia', 'Florida', 'Georgia', 'Hawaii', 'Idaho', 'Illinois', 'Indiana', 'Iowa', 'Kansas', 'Kentucky', 'Louisiana', 'Maine', 'Maryland', 'Massachusetts', 'Michigan', 'Minnesota', 'Mississippi', 'Missouri', 'Montana', 'Nebraska', 'Nevada', 'New Hampshire', 'New Jersey', 'New Mexico', 'New York', 'North Carolina', 'North Dakota', 'Ohio', 'Oklahoma', 'Oregon', 'Pennsylvania', 'Rhode Island', 'South Carolina', 'South Dakota', 'Tennessee', 'Texas', 'Utah', 'Vermont', 'Virginia', 'Washington', 'West Virginia', 'Wisconsin', 'Wyoming']\n",
      "51\n"
     ]
    }
   ],
   "source": [
    "states_name = set()\n",
    "for col in pdf.columns:\n",
    "    idx = col.find('!!')\n",
    "    if idx != -1 and col[:idx] != 'Puerto Rico':\n",
    "        states_name.add(col[:idx])\n",
    "states_name = sorted(states_name)\n",
    "print(states_name)\n",
    "print(len(states_name))"
   ]
  },
  {
   "cell_type": "code",
   "execution_count": 3,
   "metadata": {},
   "outputs": [],
   "source": [
    "mydata = {\"SN\": [f\"{state}{year}\".replace(\" \", '-') for year in [14, 10] for state in states_name]}"
   ]
  },
  {
   "cell_type": "code",
   "execution_count": 4,
   "metadata": {},
   "outputs": [],
   "source": [
    "\n",
    "mydata[\"PO18\"] = []\n",
    "mydata[\"HSOH1824\"] = []\n",
    "mydata[\"HSOHO25\"] = []\n",
    "mydata[\"BOHO25\"] = []\n",
    "\n",
    "\n",
    "def process_edu(year):\n",
    "    pdf = pd.read_csv(f'./20{year}EDU.csv')\n",
    "    for state in states_name:\n",
    "        col = f\"{state}!!Total!!Estimate\"\n",
    "        population_18_24 = int(pdf[col][0].replace(',', ''))\n",
    "        population_over_25 = int(pdf[col][5].replace(',', ''))\n",
    "        population_over_18 = population_18_24 + population_over_25\n",
    "        less_than_high_school_18_24 = float(pdf[col][1].strip(\"%\"))/100\n",
    "        higher_or_than_high_school_18_24 = 1 - less_than_high_school_18_24\n",
    "        higher_or_than_high_school_over25 = float(pdf[col][13].strip(\"%\"))/100\n",
    "        bachelor_or_higher_over25 = float(pdf[col][14].strip(\"%\"))/100\n",
    "        mydata[\"PO18\"].append(population_over_18)\n",
    "        mydata[\"HSOH1824\"].append(higher_or_than_high_school_18_24)\n",
    "        mydata[\"HSOHO25\"].append(higher_or_than_high_school_over25)\n",
    "        mydata[\"BOHO25\"].append(bachelor_or_higher_over25)\n",
    "\n",
    "process_edu(14)\n",
    "process_edu(10)\n"
   ]
  },
  {
   "cell_type": "code",
   "execution_count": 5,
   "metadata": {},
   "outputs": [],
   "source": [
    "pdf1 = pd.read_csv('./2010RAC.csv')\n",
    "pdf2 = pd.read_csv('./2020RAC.csv')\n",
    "white10 = []\n",
    "white14 = []\n",
    "black10 = []\n",
    "black14 = []\n",
    "for state in states_name:\n",
    "    a1 = pdf1[state][0].replace(',', '')\n",
    "    if a1.find(\"(\") != -1:\n",
    "        a1 = a1[:a1.find(\"(\")]\n",
    "    population1 = int(a1)\n",
    "    white1 = int(pdf1[state][2].replace(',', ''))\n",
    "    black1 = int(pdf1[state][3].replace(',', ''))\n",
    "\n",
    "    population2 = int(pdf2[state][0].replace(',', ''))\n",
    "    white2 = int(pdf2[state][2].replace(',', ''))\n",
    "    black2 = int(pdf2[state][3].replace(',', ''))\n",
    "\n",
    "    white10.append(white1 / population1)\n",
    "    black10.append(black1 / population1)\n",
    "\n",
    "    white14.append((white1 + 0.4 * (white2 - white1))/ (population1 + 0.4 * (population2 - population1)))\n",
    "    black14.append((black1 + 0.4 * (black2 - black1))/ (population1 + 0.4 * (population2 - population1)))\n",
    "\n",
    "mydata[\"WHITE\"] = white14 + white10\n",
    "mydata[\"BLACK\"] = black14 + black10"
   ]
  },
  {
   "cell_type": "code",
   "execution_count": 6,
   "metadata": {},
   "outputs": [],
   "source": [
    "mydata[\"UEO16\"] = []\n",
    "mydata[\"LT1WH\"] = []\n",
    "mydata[\"MIH\"] = []\n",
    "mydata[\"NHIP\"] = []\n",
    "mydata[\"PF\"] = []\n",
    "mydata[\"PP\"] = []\n",
    "\n",
    "def process_eco(year):\n",
    "    pdf = pd.read_csv(f'./20{year}ECO.csv')\n",
    "    for state in states_name:\n",
    "        col = f\"{state}!!Percent\"\n",
    "        unemployed_in_labor_force_over_16 = float(pdf[col][9].strip(\"%\"))/100\n",
    "        less_than_1w_household = float(pdf[col][57].strip(\"%\"))/100\n",
    "        mean_income_household =  int(pdf[f\"{state}!!Estimate\"][68].replace(',', '')) / 100000\n",
    "        no_health_insurance_person = float(pdf[col][105].strip(\"%\"))/100\n",
    "        poverty_family = float(pdf[col][126].strip(\"%\"))/100\n",
    "        poverty_person = float(pdf[col][135].strip(\"%\"))/100\n",
    "        mydata[\"UEO16\"].append(unemployed_in_labor_force_over_16)\n",
    "        mydata[\"LT1WH\"].append(less_than_1w_household)\n",
    "        mydata[\"MIH\"].append(mean_income_household)\n",
    "        mydata[\"NHIP\"].append(no_health_insurance_person)\n",
    "        mydata[\"PF\"].append(poverty_family)\n",
    "        mydata[\"PP\"].append(poverty_person)\n",
    "\n",
    "process_eco(14)\n",
    "process_eco(10)"
   ]
  },
  {
   "cell_type": "code",
   "execution_count": 7,
   "metadata": {},
   "outputs": [],
   "source": [
    "da = pd.DataFrame.from_dict(mydata)"
   ]
  },
  {
   "cell_type": "code",
   "execution_count": 8,
   "metadata": {},
   "outputs": [
    {
     "name": "stderr",
     "output_type": "stream",
     "text": [
      "c:\\Users\\BeBr2\\miniconda3\\envs\\a_nlp\\lib\\site-packages\\IPython\\core\\interactiveshell.py:3457: DtypeWarning: Columns (16) have mixed types.Specify dtype option on import or set low_memory=False.\n",
      "  exec(code_obj, self.user_global_ns, self.user_ns)\n"
     ]
    },
    {
     "data": {
      "text/plain": [
       "['Alabama',\n",
       " 'Alaska',\n",
       " 'Arizona',\n",
       " 'Arkansas',\n",
       " 'California',\n",
       " 'Colorado',\n",
       " 'Connecticut',\n",
       " 'Delaware',\n",
       " 'District of Columbia',\n",
       " 'Florida',\n",
       " 'Georgia',\n",
       " 'Hawaii',\n",
       " 'Idaho',\n",
       " 'Illinois',\n",
       " 'Indiana',\n",
       " 'Iowa',\n",
       " 'Kansas',\n",
       " 'Kentucky',\n",
       " 'Louisiana',\n",
       " 'Maine',\n",
       " 'Maryland',\n",
       " 'Massachusetts',\n",
       " 'Michigan',\n",
       " 'Minnesota',\n",
       " 'Mississippi',\n",
       " 'Missouri',\n",
       " 'Montana',\n",
       " 'Nebraska',\n",
       " 'Nevada',\n",
       " 'New Hampshire',\n",
       " 'New Jersey',\n",
       " 'New Mexico',\n",
       " 'New York',\n",
       " 'North Carolina',\n",
       " 'North Dakota',\n",
       " 'Ohio',\n",
       " 'Oklahoma',\n",
       " 'Oregon',\n",
       " 'Pennsylvania',\n",
       " 'Rhodes Island',\n",
       " 'South Carolina',\n",
       " 'South Dakota',\n",
       " 'Tennessee',\n",
       " 'Texas',\n",
       " 'Utah',\n",
       " 'Vermont',\n",
       " 'Virginia',\n",
       " 'Washington',\n",
       " 'West Virginia',\n",
       " 'Wisconsin',\n",
       " 'Wyoming']"
      ]
     },
     "execution_count": 8,
     "metadata": {},
     "output_type": "execute_result"
    }
   ],
   "source": [
    "pdf = pd.read_csv(\"HomicideReportsInUSA-1980-2014.csv\")\n",
    "states_name2 = sorted(set(list(pdf[\"State\"])))\n",
    "states_name2"
   ]
  },
  {
   "cell_type": "code",
   "execution_count": 9,
   "metadata": {},
   "outputs": [],
   "source": [
    "crime_incident_14 = [0] * len(states_name2)\n",
    "crime_incident_10 = [0] * len(states_name2)"
   ]
  },
  {
   "cell_type": "code",
   "execution_count": 10,
   "metadata": {},
   "outputs": [],
   "source": [
    "white_victim = 0\n",
    "black_victim = 0\n",
    "for i in pdf.index:\n",
    "    if pdf[\"Crime Type\"][i] == \"Manslaughter by Negligence\":\n",
    "        continue\n",
    "    if pdf[\"Victim Race\"][i] == \"White\":\n",
    "        white_victim += 1\n",
    "    if pdf[\"Victim Race\"][i] == \"Black\":\n",
    "        black_victim += 1\n",
    "    year = pdf[\"Year\"][i]\n",
    "    state = pdf[\"State\"][i]\n",
    "    idx = states_name2.index(state)\n",
    "    if year == 2010:\n",
    "        crime_incident_10[idx] += 1\n",
    "    elif year == 2014:\n",
    "        crime_incident_14[idx] += 1"
   ]
  },
  {
   "cell_type": "code",
   "execution_count": 11,
   "metadata": {},
   "outputs": [],
   "source": [
    "mydata[\"CICOUNT\"] = crime_incident_14 + crime_incident_10"
   ]
  },
  {
   "cell_type": "code",
   "execution_count": 12,
   "metadata": {},
   "outputs": [],
   "source": [
    "mydata[\"CIPERTHOUSAND\"] = [a * 1000 / b for a, b in zip(mydata[\"CICOUNT\"], mydata[\"PO18\"])] "
   ]
  },
  {
   "cell_type": "code",
   "execution_count": 13,
   "metadata": {},
   "outputs": [
    {
     "data": {
      "text/plain": [
       "[3740777,\n",
       " 549963,\n",
       " 5109413,\n",
       " 2260229,\n",
       " 29650921,\n",
       " 4108721,\n",
       " 2821801,\n",
       " 731772,\n",
       " 543863,\n",
       " 15839274,\n",
       " 7605922,\n",
       " 1111207,\n",
       " 1203199,\n",
       " 9895846,\n",
       " 5013181,\n",
       " 2381535,\n",
       " 2181534,\n",
       " 3398154,\n",
       " 3534892,\n",
       " 1072117,\n",
       " 4625232,\n",
       " 5354723,\n",
       " 7686241,\n",
       " 4174065,\n",
       " 2261526,\n",
       " 4671087,\n",
       " 798957,\n",
       " 1413626,\n",
       " 2176568,\n",
       " 1059527,\n",
       " 6925978,\n",
       " 1585494,\n",
       " 15520954,\n",
       " 7653396,\n",
       " 571956,\n",
       " 8958523,\n",
       " 2925758,\n",
       " 3111524,\n",
       " 10087031,\n",
       " 842618,\n",
       " 3748798,\n",
       " 642282,\n",
       " 5057015,\n",
       " 19841122,\n",
       " 2037353,\n",
       " 504752,\n",
       " 6458752,\n",
       " 5458877,\n",
       " 1467126,\n",
       " 4458062,\n",
       " 446389,\n",
       " 3649870,\n",
       " 525600,\n",
       " 4781326,\n",
       " 2210476,\n",
       " 28042134,\n",
       " 3820393,\n",
       " 2761785,\n",
       " 693700,\n",
       " 503186,\n",
       " 14843807,\n",
       " 7218066,\n",
       " 1059960,\n",
       " 1142490,\n",
       " 9717236,\n",
       " 4884506,\n",
       " 2325209,\n",
       " 2132343,\n",
       " 3324930,\n",
       " 3426176,\n",
       " 1053916,\n",
       " 4434210,\n",
       " 5140133,\n",
       " 7542667,\n",
       " 4026931,\n",
       " 2216868,\n",
       " 4578660,\n",
       " 768298,\n",
       " 1370063,\n",
       " 2039869,\n",
       " 1030995,\n",
       " 6738812,\n",
       " 1547286,\n",
       " 15079820,\n",
       " 7277315,\n",
       " 524042,\n",
       " 8815336,\n",
       " 2830778,\n",
       " 2972446,\n",
       " 9924456,\n",
       " 828863,\n",
       " 3554882,\n",
       " 614383,\n",
       " 4859663,\n",
       " 18369567,\n",
       " 1902793,\n",
       " 496299,\n",
       " 6170996,\n",
       " 5160913,\n",
       " 1467290,\n",
       " 4354839,\n",
       " 427742]"
      ]
     },
     "execution_count": 13,
     "metadata": {},
     "output_type": "execute_result"
    }
   ],
   "source": [
    "mydata.pop(\"CICOUNT\")\n",
    "mydata.pop(\"PO18\")"
   ]
  },
  {
   "cell_type": "code",
   "execution_count": 14,
   "metadata": {},
   "outputs": [],
   "source": [
    "abolish_dp14 = [0, 1, 0, 0, 0, 0, 1, 0, 1, 0, 0, 1, 0, 1, 0, 1, 0, 0, 0, 1, 1, 1, 1, 1, 0, 0, 0, 0, 0, 0, 1, 1, 1, 0, 1, 0, 0, 0, 0, 1, 0, 0, 0, 0, 0, 1, 0, 0, 1, 1, 0]\n",
    "abolish_dp10 = [0, 1, 0, 0, 0, 0, 0, 0, 1, 0, 0, 1, 0, 0, 0, 1, 0, 0, 0, 1, 1, 0, 1, 1, 0, 0, 0, 0, 0, 0, 1, 1, 1, 0, 1, 0, 0, 0, 0, 1, 0, 0, 0, 0, 0, 1, 0, 0, 1, 1, 0]"
   ]
  },
  {
   "cell_type": "code",
   "execution_count": 15,
   "metadata": {},
   "outputs": [],
   "source": [
    "mydata[\"ABOLISHDP\"] = abolish_dp14 + abolish_dp10"
   ]
  },
  {
   "cell_type": "code",
   "execution_count": 16,
   "metadata": {},
   "outputs": [],
   "source": [
    "da = pd.DataFrame.from_dict(mydata)\n",
    "da.to_csv(\"./mydata.csv\")"
   ]
  },
  {
   "cell_type": "code",
   "execution_count": 17,
   "metadata": {},
   "outputs": [
    {
     "name": "stdout",
     "output_type": "stream",
     "text": [
      "311275 297233\n"
     ]
    }
   ],
   "source": [
    "print(white_victim, black_victim)"
   ]
  }
 ],
 "metadata": {
  "kernelspec": {
   "display_name": "a_nlp",
   "language": "python",
   "name": "python3"
  },
  "language_info": {
   "codemirror_mode": {
    "name": "ipython",
    "version": 3
   },
   "file_extension": ".py",
   "mimetype": "text/x-python",
   "name": "python",
   "nbconvert_exporter": "python",
   "pygments_lexer": "ipython3",
   "version": "3.7.11"
  },
  "orig_nbformat": 4,
  "vscode": {
   "interpreter": {
    "hash": "147cf78727f37517418c520d12eb0100b41db9043c900d70f903c7dc6e548c10"
   }
  }
 },
 "nbformat": 4,
 "nbformat_minor": 2
}
